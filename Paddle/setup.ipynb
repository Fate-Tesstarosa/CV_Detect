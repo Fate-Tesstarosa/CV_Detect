{
 "cells": [
  {
   "cell_type": "markdown",
   "id": "56e6066f",
   "metadata": {},
   "source": [
    "安装指南：https://github.com/PaddlePaddle/PaddleDetection/blob/release/2.1/docs/tutorials/INSTALL_cn.md\n",
    "\n",
    "快速上手指南：https://github.com/PaddlePaddle/PaddleDetection/blob/release/2.1/docs/tutorials/GETTING_STARTED_cn.md\n",
    "\n",
    "特色垂类检测模型：https://github.com/PaddlePaddle/PaddleDetection/blob/release/2.1/configs/pedestrian/README_cn.md"
   ]
  },
  {
   "cell_type": "markdown",
   "id": "4d855299",
   "metadata": {},
   "source": [
    "## 一、安装PaddlePaddle"
   ]
  },
  {
   "cell_type": "markdown",
   "id": "065ae5a6",
   "metadata": {},
   "source": [
    "根据CUDA版本装合适的paddle：https://www.paddlepaddle.org.cn/install/quick?docurl=/documentation/docs/zh/install/pip/linux-pip.html\n",
    "\n",
    "注：nvidia-smi展示的cuda版本可能会有误，所以就因为版本问题我起码安装了不下十次，用nvcc--version查看relese的版本才是正确的"
   ]
  },
  {
   "cell_type": "code",
   "execution_count": null,
   "id": "af8936d7",
   "metadata": {},
   "outputs": [],
   "source": [
    "!python3 -m pip install paddlepaddle-gpu==2.1.2.post101 -f https://www.paddlepaddle.org.cn/whl/linux/mkl/avx/stable.html"
   ]
  },
  {
   "cell_type": "code",
   "execution_count": 1,
   "id": "19b479aa",
   "metadata": {},
   "outputs": [
    {
     "name": "stdout",
     "output_type": "stream",
     "text": [
      "Running verify PaddlePaddle program ... \n"
     ]
    },
    {
     "name": "stderr",
     "output_type": "stream",
     "text": [
      "W0812 14:40:47.566164 25161 device_context.cc:404] Please NOTE: device: 0, GPU Compute Capability: 7.5, Driver API Version: 11.0, Runtime API Version: 10.1\n",
      "W0812 14:40:47.567847 25161 device_context.cc:422] device: 0, cuDNN Version: 8.0.\n"
     ]
    },
    {
     "name": "stdout",
     "output_type": "stream",
     "text": [
      "PaddlePaddle works well on 1 GPU.\n",
      "PaddlePaddle works well on 1 GPUs.\n",
      "PaddlePaddle is installed successfully! Let's start deep learning with PaddlePaddle now.\n"
     ]
    }
   ],
   "source": [
    "# 在您的Python解释器中确认PaddlePaddle安装成功\n",
    "import paddle\n",
    "paddle.utils.run_check()"
   ]
  },
  {
   "cell_type": "code",
   "execution_count": 3,
   "id": "78a89a47",
   "metadata": {},
   "outputs": [
    {
     "name": "stdout",
     "output_type": "stream",
     "text": [
      "2.1.2\r\n"
     ]
    }
   ],
   "source": [
    "# 确认PaddlePaddle版本\n",
    "!python3 -c \"import paddle; print(paddle.__version__)\""
   ]
  },
  {
   "cell_type": "code",
   "execution_count": null,
   "id": "c7986658",
   "metadata": {},
   "outputs": [],
   "source": [
    "# pip安装paddledet\n",
    "pip install paddledet==2.1.0 -i https://mirror.baidu.com/pypi/simple"
   ]
  },
  {
   "cell_type": "code",
   "execution_count": null,
   "id": "67bbbc53",
   "metadata": {},
   "outputs": [],
   "source": [
    "# 下载使用源码中的配置文件和代码示例\n",
    "!git clone https://gitee.com/paddlepaddle/PaddleDetection.git -b release/2.0  \n",
    "%cd ~/PaddleDetection/\n",
    "!pip install paddledet"
   ]
  },
  {
   "cell_type": "code",
   "execution_count": 7,
   "id": "bd483872",
   "metadata": {
    "scrolled": true
   },
   "outputs": [
    {
     "name": "stdout",
     "output_type": "stream",
     "text": [
      "/home/yolov5test/PPyolov2/PPD\n",
      "W0812 14:46:09.339531 27107 device_context.cc:404] Please NOTE: device: 0, GPU Compute Capability: 7.5, Driver API Version: 11.0, Runtime API Version: 10.1\n",
      "W0812 14:46:09.341153 27107 device_context.cc:422] device: 0, cuDNN Version: 8.0.\n",
      ".....\n",
      "----------------------------------------------------------------------\n",
      "Ran 5 tests in 1.178s\n",
      "\n",
      "OK\n"
     ]
    }
   ],
   "source": [
    "%cd ./PPD\n",
    "!python3 ./ppdet/modeling/tests/test_architectures.py"
   ]
  }
 ],
 "metadata": {
  "kernelspec": {
   "display_name": "Python 3 (ipykernel)",
   "language": "python",
   "name": "python3"
  },
  "language_info": {
   "codemirror_mode": {
    "name": "ipython",
    "version": 3
   },
   "file_extension": ".py",
   "mimetype": "text/x-python",
   "name": "python",
   "nbconvert_exporter": "python",
   "pygments_lexer": "ipython3",
   "version": "3.8.10"
  },
  "toc": {
   "base_numbering": 1,
   "nav_menu": {},
   "number_sections": false,
   "sideBar": true,
   "skip_h1_title": false,
   "title_cell": "Table of Contents",
   "title_sidebar": "Contents",
   "toc_cell": false,
   "toc_position": {
    "height": "calc(100% - 180px)",
    "left": "10px",
    "top": "150px",
    "width": "223.594px"
   },
   "toc_section_display": true,
   "toc_window_display": true
  }
 },
 "nbformat": 4,
 "nbformat_minor": 5
}
