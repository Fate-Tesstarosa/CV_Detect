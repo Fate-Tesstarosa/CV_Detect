{
 "cells": [
  {
   "cell_type": "markdown",
   "id": "1cccebec",
   "metadata": {},
   "source": [
    "## 1、将图片逐帧转换回视频"
   ]
  },
  {
   "cell_type": "code",
   "execution_count": null,
   "id": "10e347c4",
   "metadata": {},
   "outputs": [],
   "source": [
    "import cv2\n",
    "import os\n",
    "from datetime import datetime\n",
    " \n",
    "# print(cv2.__version__)\n",
    " \n",
    "def frames_to_video(save_path, frames_path):\n",
    "    # fourcc = cv2.VideoWriter_fourcc(*'mp4v')\n",
    "    fourcc = cv2.VideoWriter_fourcc('m', 'p', '4', 'v')\n",
    "    fps = 25\n",
    "    video_width, video_height = 1920, 1080\n",
    "    videoWriter = cv2.VideoWriter(save_path, fourcc, fps, (video_width, video_height))\n",
    "    # videoWriter = cv2.VideoWriter(save_path, -1, fps, (video_width, video_height))\n",
    "    imgs = glob.glob(frames_path + \"/*.jpg\")\n",
    "    # print(imgs)\n",
    "    # frames_num = len(imgs)\n",
    "    for i in range(2851,2894):\n",
    "        if os.path.isfile(\"%s/%d.jpg\"%(frames_path, i)):\n",
    "            # print(i)\n",
    "            frame = cv2.imread(\"%s/%d.jpg\"%(frames_path, i))\n",
    "            # print(frame.shape)\n",
    "            videoWriter.write(frame)\n",
    "    videoWriter.release()\n",
    "    return\n",
    " \n",
    " \n",
    "if __name__ == '__main__':\n",
    "\n",
    "    frames_to_video(\"jian_1_25.mp4\", 'jian_1_25_frames')"
   ]
  },
  {
   "cell_type": "code",
   "execution_count": 31,
   "id": "847b42e3",
   "metadata": {
    "ExecuteTime": {
     "end_time": "2021-08-19T02:40:14.452407Z",
     "start_time": "2021-08-19T02:40:14.447168Z"
    }
   },
   "outputs": [],
   "source": [
    "def visdrone2yolo(dir):\n",
    "    from PIL import Image\n",
    "    from tqdm import tqdm\n",
    "    def convert_box(size, box):\n",
    "        # Convert VisDrone box to YOLO xywh box\n",
    "        dw = 1. / size[0]\n",
    "        dh = 1. / size[1]\n",
    "        return (box[0] + box[2] / 2) * dw, (box[1] + box[3] / 2) * dh, box[2] * dw, box[3] * dh\n",
    "    (dir / 'labels').mkdir(parents=True, exist_ok=True)  # make labels directory\n",
    "    pbar = tqdm((dir / 'annotations').glob('*.txt'), desc=f'Converting {dir}')\n",
    "    for f in pbar:\n",
    "        img_size = Image.open((dir / 'images' / f.name).with_suffix('.jpg')).size\n",
    "        lines = []\n",
    "        with open(f, 'r') as file:  # read annotation.txt\n",
    "            for row in [x.split(',') for x in file.read().strip().splitlines()]:\n",
    "                cls = int(row[5]) - 1\n",
    "                if row[4] == '0' : # VisDrone 'ignored regions' class 0\n",
    "                    continue\n",
    "                elif cls in (0,1,6,7) :\n",
    "                    continue              \n",
    "                box = convert_box(img_size, tuple(map(int, row[:4])))\n",
    "                lines.append(f\"{cls} {' '.join(f'{x:.6f}' for x in box)}\\n\")\n",
    "                with open(str(f).replace(os.sep + 'annotations' + os.sep, os.sep + 'labels' + os.sep), 'w') as fl:\n",
    "                    fl.writelines(lines)  # write label.txt           "
   ]
  },
  {
   "cell_type": "code",
   "execution_count": 32,
   "id": "a855dfea",
   "metadata": {
    "ExecuteTime": {
     "end_time": "2021-08-19T02:40:45.306642Z",
     "start_time": "2021-08-19T02:40:29.822444Z"
    }
   },
   "outputs": [
    {
     "name": "stderr",
     "output_type": "stream",
     "text": [
      "Converting ../VisDrone/VisDrone2019-DET-train: 6471it [00:11, 546.98it/s]\n",
      "Converting ../VisDrone/VisDrone2019-DET-val: 548it [00:01, 466.03it/s]\n",
      "Converting ../VisDrone/VisDrone2019-DET-test-dev: 1610it [00:02, 651.50it/s]\n"
     ]
    }
   ],
   "source": [
    "from utils.general import download, os, Path\n",
    "\n",
    "dir = Path('../VisDrone') \n",
    "\n",
    "for d in 'VisDrone2019-DET-train', 'VisDrone2019-DET-val', 'VisDrone2019-DET-test-dev':\n",
    "  visdrone2yolo(dir / d)  # convert VisDrone annotations to YOLO labels    "
   ]
  }
 ],
 "metadata": {
  "kernelspec": {
   "display_name": "Python 3 (ipykernel)",
   "language": "python",
   "name": "python3"
  },
  "language_info": {
   "codemirror_mode": {
    "name": "ipython",
    "version": 3
   },
   "file_extension": ".py",
   "mimetype": "text/x-python",
   "name": "python",
   "nbconvert_exporter": "python",
   "pygments_lexer": "ipython3",
   "version": "3.8.10"
  },
  "toc": {
   "base_numbering": 1,
   "nav_menu": {},
   "number_sections": false,
   "sideBar": true,
   "skip_h1_title": false,
   "title_cell": "Table of Contents",
   "title_sidebar": "Contents",
   "toc_cell": false,
   "toc_position": {},
   "toc_section_display": true,
   "toc_window_display": true
  }
 },
 "nbformat": 4,
 "nbformat_minor": 5
}
