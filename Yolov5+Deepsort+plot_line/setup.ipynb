{
 "cells": [
  {
   "cell_type": "markdown",
   "id": "2199ac43",
   "metadata": {},
   "source": [
    "- 实现了 出/入 分别计数。\n",
    "- 显示检测类别。\n",
    "- 默认是 南/北 方向检测，若要检测不同位置和方向，可在 main.py 文件第13行和21行，修改2个polygon的点。\n",
    "- 默认检测类别：行人、自行车、小汽车、摩托车、公交车、卡车。\n",
    "- 检测类别可在 detector.py 文件第60行修改。"
   ]
  },
  {
   "cell_type": "code",
   "execution_count": null,
   "id": "0d0c719e",
   "metadata": {
    "ExecuteTime": {
     "start_time": "2021-08-24T02:03:10.319Z"
    }
   },
   "outputs": [],
   "source": [
    "!notepadqq main.py"
   ]
  },
  {
   "cell_type": "code",
   "execution_count": 9,
   "id": "dc812990",
   "metadata": {
    "ExecuteTime": {
     "end_time": "2021-08-23T06:14:27.228279Z",
     "start_time": "2021-08-23T06:14:02.826461Z"
    }
   },
   "outputs": [],
   "source": [
    "!gedit detector.py"
   ]
  },
  {
   "cell_type": "code",
   "execution_count": 2,
   "id": "78c8ab1c",
   "metadata": {
    "ExecuteTime": {
     "end_time": "2021-08-24T02:03:07.828245Z",
     "start_time": "2021-08-24T01:58:39.088408Z"
    }
   },
   "outputs": [],
   "source": [
    "!gedit tracker.py"
   ]
  },
  {
   "cell_type": "code",
   "execution_count": 69,
   "id": "e29e382b",
   "metadata": {
    "ExecuteTime": {
     "end_time": "2021-08-23T07:57:19.635731Z",
     "start_time": "2021-08-23T07:57:19.544012Z"
    }
   },
   "outputs": [],
   "source": [
    "import cv2\n",
    "capture = cv2.VideoCapture('./video/test.mp4')"
   ]
  },
  {
   "cell_type": "markdown",
   "id": "f68df4f8",
   "metadata": {},
   "source": [
    "隐藏边框，画直线"
   ]
  },
  {
   "cell_type": "code",
   "execution_count": 71,
   "id": "4a94843e",
   "metadata": {
    "ExecuteTime": {
     "end_time": "2021-08-23T08:05:04.794613Z",
     "start_time": "2021-08-23T07:58:26.023649Z"
    }
   },
   "outputs": [
    {
     "name": "stdout",
     "output_type": "stream",
     "text": [
      "/home/yolov5test/yolo_line/deep_sort/utils/parser.py:23: YAMLLoadWarning: calling yaml.load() without Loader=... is deprecated, as the default Loader is unsafe. Please read https://msg.pyyaml.org/load for full details.\n",
      "  self.update(yaml.load(fo.read()))\n",
      "Fusing layers... \n",
      "/home/yolov5test/.local/lib/python3.8/site-packages/torch/nn/functional.py:718: UserWarning: Named tensors and all their associated APIs are an experimental feature and subject to change. Please do not use them for anything important until they are released as stable. (Triggered internally at  /pytorch/c10/core/TensorImpl.h:1156.)\n",
      "  return torch.max_pool2d(input, kernel_size, stride, padding, dilation, ceil_mode)\n",
      "类别: car | id: 1 | 上行撞线 | 上行撞线总数: 1 | 上行id列表: [1]\n",
      "类别: car | id: 3 | 上行撞线 | 上行撞线总数: 2 | 上行id列表: [3]\n",
      "类别: car | id: 4 | 上行撞线 | 上行撞线总数: 3 | 上行id列表: [4]\n",
      "类别: car | id: 7 | 上行撞线 | 上行撞线总数: 4 | 上行id列表: [7]\n",
      "类别: car | id: 11 | 上行撞线 | 上行撞线总数: 5 | 上行id列表: [11]\n",
      "类别: car | id: 23 | 上行撞线 | 上行撞线总数: 6 | 上行id列表: [23, 9]\n",
      "类别: car | id: 9 | 上行撞线 | 上行撞线总数: 7 | 上行id列表: [9]\n",
      "类别: car | id: 13 | 上行撞线 | 上行撞线总数: 8 | 上行id列表: [26, 13]\n",
      "类别: car | id: 26 | 上行撞线 | 上行撞线总数: 9 | 上行id列表: [26]\n",
      "类别: car | id: 27 | 上行撞线 | 上行撞线总数: 10 | 上行id列表: [27]\n",
      "类别: car | id: 30 | 上行撞线 | 上行撞线总数: 11 | 上行id列表: [30]\n",
      "类别: car | id: 33 | 上行撞线 | 上行撞线总数: 12 | 上行id列表: [33]\n",
      "类别: car | id: 34 | 上行撞线 | 上行撞线总数: 13 | 上行id列表: [34]\n",
      "类别: car | id: 42 | 上行撞线 | 上行撞线总数: 14 | 上行id列表: [42]\n",
      "类别: van | id: 43 | 上行撞线 | 上行撞线总数: 15 | 上行id列表: [43, 44]\n",
      "类别: motor | id: 44 | 上行撞线 | 上行撞线总数: 16 | 上行id列表: [44]\n"
     ]
    }
   ],
   "source": [
    "!python3 main.py"
   ]
  }
 ],
 "metadata": {
  "kernelspec": {
   "display_name": "Python 3 (ipykernel)",
   "language": "python",
   "name": "python3"
  },
  "language_info": {
   "codemirror_mode": {
    "name": "ipython",
    "version": 3
   },
   "file_extension": ".py",
   "mimetype": "text/x-python",
   "name": "python",
   "nbconvert_exporter": "python",
   "pygments_lexer": "ipython3",
   "version": "3.8.10"
  },
  "toc": {
   "base_numbering": 1,
   "nav_menu": {},
   "number_sections": true,
   "sideBar": true,
   "skip_h1_title": false,
   "title_cell": "Table of Contents",
   "title_sidebar": "Contents",
   "toc_cell": false,
   "toc_position": {},
   "toc_section_display": true,
   "toc_window_display": false
  }
 },
 "nbformat": 4,
 "nbformat_minor": 5
}
